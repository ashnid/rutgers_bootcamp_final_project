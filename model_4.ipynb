{
 "cells": [
  {
   "cell_type": "code",
   "execution_count": 1,
   "metadata": {},
   "outputs": [],
   "source": [
    "# Update sklearn to prevent version mismatches\n",
    "import matplotlib.pyplot as plt\n",
    "from sklearn.neighbors import KNeighborsClassifier\n",
    "import pandas as pd\n",
    "import numpy as np\n",
    "import os"
   ]
  },
  {
   "cell_type": "markdown",
   "metadata": {},
   "source": [
    "# Read the CSV and Perform Basic Data Cleaning"
   ]
  },
  {
   "cell_type": "code",
   "execution_count": 2,
   "metadata": {},
   "outputs": [
    {
     "data": {
      "text/html": [
       "<div>\n",
       "<style scoped>\n",
       "    .dataframe tbody tr th:only-of-type {\n",
       "        vertical-align: middle;\n",
       "    }\n",
       "\n",
       "    .dataframe tbody tr th {\n",
       "        vertical-align: top;\n",
       "    }\n",
       "\n",
       "    .dataframe thead th {\n",
       "        text-align: right;\n",
       "    }\n",
       "</style>\n",
       "<table border=\"1\" class=\"dataframe\">\n",
       "  <thead>\n",
       "    <tr style=\"text-align: right;\">\n",
       "      <th></th>\n",
       "      <th>Date</th>\n",
       "      <th>Open</th>\n",
       "      <th>High</th>\n",
       "      <th>Low</th>\n",
       "      <th>Close</th>\n",
       "      <th>Adj Close</th>\n",
       "      <th>Volume</th>\n",
       "    </tr>\n",
       "  </thead>\n",
       "  <tbody>\n",
       "    <tr>\n",
       "      <th>0</th>\n",
       "      <td>2016-01-19</td>\n",
       "      <td>51.480000</td>\n",
       "      <td>51.680000</td>\n",
       "      <td>50.060001</td>\n",
       "      <td>50.560001</td>\n",
       "      <td>46.137611</td>\n",
       "      <td>43564500</td>\n",
       "    </tr>\n",
       "    <tr>\n",
       "      <th>1</th>\n",
       "      <td>2016-01-20</td>\n",
       "      <td>49.980000</td>\n",
       "      <td>51.380001</td>\n",
       "      <td>49.099998</td>\n",
       "      <td>50.790001</td>\n",
       "      <td>46.347496</td>\n",
       "      <td>63273000</td>\n",
       "    </tr>\n",
       "    <tr>\n",
       "      <th>2</th>\n",
       "      <td>2016-01-21</td>\n",
       "      <td>51.000000</td>\n",
       "      <td>51.580002</td>\n",
       "      <td>50.299999</td>\n",
       "      <td>50.480000</td>\n",
       "      <td>46.064606</td>\n",
       "      <td>40191200</td>\n",
       "    </tr>\n",
       "    <tr>\n",
       "      <th>3</th>\n",
       "      <td>2016-01-22</td>\n",
       "      <td>51.410000</td>\n",
       "      <td>52.330002</td>\n",
       "      <td>51.259998</td>\n",
       "      <td>52.290001</td>\n",
       "      <td>47.716290</td>\n",
       "      <td>37555800</td>\n",
       "    </tr>\n",
       "    <tr>\n",
       "      <th>4</th>\n",
       "      <td>2016-01-25</td>\n",
       "      <td>51.939999</td>\n",
       "      <td>52.650002</td>\n",
       "      <td>51.650002</td>\n",
       "      <td>51.790001</td>\n",
       "      <td>47.260017</td>\n",
       "      <td>34707700</td>\n",
       "    </tr>\n",
       "  </tbody>\n",
       "</table>\n",
       "</div>"
      ],
      "text/plain": [
       "         Date       Open       High        Low      Close  Adj Close    Volume\n",
       "0  2016-01-19  51.480000  51.680000  50.060001  50.560001  46.137611  43564500\n",
       "1  2016-01-20  49.980000  51.380001  49.099998  50.790001  46.347496  63273000\n",
       "2  2016-01-21  51.000000  51.580002  50.299999  50.480000  46.064606  40191200\n",
       "3  2016-01-22  51.410000  52.330002  51.259998  52.290001  47.716290  37555800\n",
       "4  2016-01-25  51.939999  52.650002  51.650002  51.790001  47.260017  34707700"
      ]
     },
     "execution_count": 2,
     "metadata": {},
     "output_type": "execute_result"
    }
   ],
   "source": [
    "df = pd.read_csv(\"Resources/MSFT.csv\")\n",
    "# Drop the null columns where all values are null\n",
    "df = df.dropna(axis='columns', how='all')\n",
    "# Drop the null rows\n",
    "df = df.dropna()\n",
    "df.head()"
   ]
  },
  {
   "cell_type": "code",
   "execution_count": 3,
   "metadata": {},
   "outputs": [
    {
     "data": {
      "text/html": [
       "<div>\n",
       "<style scoped>\n",
       "    .dataframe tbody tr th:only-of-type {\n",
       "        vertical-align: middle;\n",
       "    }\n",
       "\n",
       "    .dataframe tbody tr th {\n",
       "        vertical-align: top;\n",
       "    }\n",
       "\n",
       "    .dataframe thead th {\n",
       "        text-align: right;\n",
       "    }\n",
       "</style>\n",
       "<table border=\"1\" class=\"dataframe\">\n",
       "  <thead>\n",
       "    <tr style=\"text-align: right;\">\n",
       "      <th></th>\n",
       "      <th>Open</th>\n",
       "      <th>High</th>\n",
       "      <th>Low</th>\n",
       "      <th>Close</th>\n",
       "      <th>Adj Close</th>\n",
       "      <th>Volume</th>\n",
       "    </tr>\n",
       "  </thead>\n",
       "  <tbody>\n",
       "    <tr>\n",
       "      <th>0</th>\n",
       "      <td>51.480000</td>\n",
       "      <td>51.680000</td>\n",
       "      <td>50.060001</td>\n",
       "      <td>50.560001</td>\n",
       "      <td>46.137611</td>\n",
       "      <td>43564500</td>\n",
       "    </tr>\n",
       "    <tr>\n",
       "      <th>1</th>\n",
       "      <td>49.980000</td>\n",
       "      <td>51.380001</td>\n",
       "      <td>49.099998</td>\n",
       "      <td>50.790001</td>\n",
       "      <td>46.347496</td>\n",
       "      <td>63273000</td>\n",
       "    </tr>\n",
       "    <tr>\n",
       "      <th>2</th>\n",
       "      <td>51.000000</td>\n",
       "      <td>51.580002</td>\n",
       "      <td>50.299999</td>\n",
       "      <td>50.480000</td>\n",
       "      <td>46.064606</td>\n",
       "      <td>40191200</td>\n",
       "    </tr>\n",
       "    <tr>\n",
       "      <th>3</th>\n",
       "      <td>51.410000</td>\n",
       "      <td>52.330002</td>\n",
       "      <td>51.259998</td>\n",
       "      <td>52.290001</td>\n",
       "      <td>47.716290</td>\n",
       "      <td>37555800</td>\n",
       "    </tr>\n",
       "    <tr>\n",
       "      <th>4</th>\n",
       "      <td>51.939999</td>\n",
       "      <td>52.650002</td>\n",
       "      <td>51.650002</td>\n",
       "      <td>51.790001</td>\n",
       "      <td>47.260017</td>\n",
       "      <td>34707700</td>\n",
       "    </tr>\n",
       "  </tbody>\n",
       "</table>\n",
       "</div>"
      ],
      "text/plain": [
       "        Open       High        Low      Close  Adj Close    Volume\n",
       "0  51.480000  51.680000  50.060001  50.560001  46.137611  43564500\n",
       "1  49.980000  51.380001  49.099998  50.790001  46.347496  63273000\n",
       "2  51.000000  51.580002  50.299999  50.480000  46.064606  40191200\n",
       "3  51.410000  52.330002  51.259998  52.290001  47.716290  37555800\n",
       "4  51.939999  52.650002  51.650002  51.790001  47.260017  34707700"
      ]
     },
     "execution_count": 3,
     "metadata": {},
     "output_type": "execute_result"
    }
   ],
   "source": [
    "#df = pd.get_dummies(df)\n",
    "#df.head()\n",
    "#df = df.drop('Date', axis=0)\n",
    "df = df.drop(columns=['Date'])\n",
    "df.head()"
   ]
  },
  {
   "cell_type": "code",
   "execution_count": 4,
   "metadata": {},
   "outputs": [
    {
     "data": {
      "text/html": [
       "<div>\n",
       "<style scoped>\n",
       "    .dataframe tbody tr th:only-of-type {\n",
       "        vertical-align: middle;\n",
       "    }\n",
       "\n",
       "    .dataframe tbody tr th {\n",
       "        vertical-align: top;\n",
       "    }\n",
       "\n",
       "    .dataframe thead th {\n",
       "        text-align: right;\n",
       "    }\n",
       "</style>\n",
       "<table border=\"1\" class=\"dataframe\">\n",
       "  <thead>\n",
       "    <tr style=\"text-align: right;\">\n",
       "      <th></th>\n",
       "      <th>Open</th>\n",
       "      <th>High</th>\n",
       "      <th>Low</th>\n",
       "      <th>Close</th>\n",
       "      <th>Volume</th>\n",
       "      <th>diff</th>\n",
       "    </tr>\n",
       "  </thead>\n",
       "  <tbody>\n",
       "    <tr>\n",
       "      <th>0</th>\n",
       "      <td>51.480000</td>\n",
       "      <td>51.680000</td>\n",
       "      <td>50.060001</td>\n",
       "      <td>50.560001</td>\n",
       "      <td>43564500</td>\n",
       "      <td>0</td>\n",
       "    </tr>\n",
       "    <tr>\n",
       "      <th>1</th>\n",
       "      <td>49.980000</td>\n",
       "      <td>51.380001</td>\n",
       "      <td>49.099998</td>\n",
       "      <td>50.790001</td>\n",
       "      <td>63273000</td>\n",
       "      <td>1</td>\n",
       "    </tr>\n",
       "    <tr>\n",
       "      <th>2</th>\n",
       "      <td>51.000000</td>\n",
       "      <td>51.580002</td>\n",
       "      <td>50.299999</td>\n",
       "      <td>50.480000</td>\n",
       "      <td>40191200</td>\n",
       "      <td>0</td>\n",
       "    </tr>\n",
       "    <tr>\n",
       "      <th>3</th>\n",
       "      <td>51.410000</td>\n",
       "      <td>52.330002</td>\n",
       "      <td>51.259998</td>\n",
       "      <td>52.290001</td>\n",
       "      <td>37555800</td>\n",
       "      <td>1</td>\n",
       "    </tr>\n",
       "    <tr>\n",
       "      <th>4</th>\n",
       "      <td>51.939999</td>\n",
       "      <td>52.650002</td>\n",
       "      <td>51.650002</td>\n",
       "      <td>51.790001</td>\n",
       "      <td>34707700</td>\n",
       "      <td>0</td>\n",
       "    </tr>\n",
       "  </tbody>\n",
       "</table>\n",
       "</div>"
      ],
      "text/plain": [
       "        Open       High        Low      Close    Volume  diff\n",
       "0  51.480000  51.680000  50.060001  50.560001  43564500     0\n",
       "1  49.980000  51.380001  49.099998  50.790001  63273000     1\n",
       "2  51.000000  51.580002  50.299999  50.480000  40191200     0\n",
       "3  51.410000  52.330002  51.259998  52.290001  37555800     1\n",
       "4  51.939999  52.650002  51.650002  51.790001  34707700     0"
      ]
     },
     "execution_count": 4,
     "metadata": {},
     "output_type": "execute_result"
    }
   ],
   "source": [
    "diff = df['Close']-df[\"Open\"]\n",
    "diff_locations = []\n",
    "for i in diff:\n",
    "    if (i <0):\n",
    "        diff_locations.append(0)\n",
    "    else:\n",
    "        diff_locations.append(1)\n",
    "df['diff'] = pd.DataFrame(diff_locations)\n",
    "df = df[['Open','High', 'Low', 'Close', 'Volume','diff']]\n",
    "#X = df[['High', 'Low', 'Close', 'Volume']]\n",
    "df.head()"
   ]
  },
  {
   "cell_type": "code",
   "execution_count": 5,
   "metadata": {},
   "outputs": [
    {
     "name": "stdout",
     "output_type": "stream",
     "text": [
      "(1259, 5) (1259,)\n"
     ]
    }
   ],
   "source": [
    "y = df[\"diff\"]\n",
    "\n",
    "X = df[['Open','High', 'Low', 'Close', 'Volume']]\n",
    "#X = df[['High', 'Low', 'Close', 'Volume']]\n",
    "print(X.shape, y.shape)"
   ]
  },
  {
   "cell_type": "code",
   "execution_count": 7,
   "metadata": {},
   "outputs": [],
   "source": [
    "target_names = [\"negative\", \"positive\"]"
   ]
  },
  {
   "cell_type": "code",
   "execution_count": 6,
   "metadata": {},
   "outputs": [
    {
     "data": {
      "text/html": [
       "<div>\n",
       "<style scoped>\n",
       "    .dataframe tbody tr th:only-of-type {\n",
       "        vertical-align: middle;\n",
       "    }\n",
       "\n",
       "    .dataframe tbody tr th {\n",
       "        vertical-align: top;\n",
       "    }\n",
       "\n",
       "    .dataframe thead th {\n",
       "        text-align: right;\n",
       "    }\n",
       "</style>\n",
       "<table border=\"1\" class=\"dataframe\">\n",
       "  <thead>\n",
       "    <tr style=\"text-align: right;\">\n",
       "      <th></th>\n",
       "      <th>Open</th>\n",
       "      <th>High</th>\n",
       "      <th>Low</th>\n",
       "      <th>Close</th>\n",
       "      <th>Volume</th>\n",
       "    </tr>\n",
       "  </thead>\n",
       "  <tbody>\n",
       "    <tr>\n",
       "      <th>0</th>\n",
       "      <td>51.480000</td>\n",
       "      <td>51.680000</td>\n",
       "      <td>50.060001</td>\n",
       "      <td>50.560001</td>\n",
       "      <td>43564500</td>\n",
       "    </tr>\n",
       "    <tr>\n",
       "      <th>1</th>\n",
       "      <td>49.980000</td>\n",
       "      <td>51.380001</td>\n",
       "      <td>49.099998</td>\n",
       "      <td>50.790001</td>\n",
       "      <td>63273000</td>\n",
       "    </tr>\n",
       "    <tr>\n",
       "      <th>2</th>\n",
       "      <td>51.000000</td>\n",
       "      <td>51.580002</td>\n",
       "      <td>50.299999</td>\n",
       "      <td>50.480000</td>\n",
       "      <td>40191200</td>\n",
       "    </tr>\n",
       "    <tr>\n",
       "      <th>3</th>\n",
       "      <td>51.410000</td>\n",
       "      <td>52.330002</td>\n",
       "      <td>51.259998</td>\n",
       "      <td>52.290001</td>\n",
       "      <td>37555800</td>\n",
       "    </tr>\n",
       "    <tr>\n",
       "      <th>4</th>\n",
       "      <td>51.939999</td>\n",
       "      <td>52.650002</td>\n",
       "      <td>51.650002</td>\n",
       "      <td>51.790001</td>\n",
       "      <td>34707700</td>\n",
       "    </tr>\n",
       "  </tbody>\n",
       "</table>\n",
       "</div>"
      ],
      "text/plain": [
       "        Open       High        Low      Close    Volume\n",
       "0  51.480000  51.680000  50.060001  50.560001  43564500\n",
       "1  49.980000  51.380001  49.099998  50.790001  63273000\n",
       "2  51.000000  51.580002  50.299999  50.480000  40191200\n",
       "3  51.410000  52.330002  51.259998  52.290001  37555800\n",
       "4  51.939999  52.650002  51.650002  51.790001  34707700"
      ]
     },
     "execution_count": 6,
     "metadata": {},
     "output_type": "execute_result"
    }
   ],
   "source": [
    "data = df.drop(\"diff\", axis=1)\n",
    "feature_names = data.columns\n",
    "data.head()"
   ]
  },
  {
   "cell_type": "markdown",
   "metadata": {},
   "source": [
    "# Select your features (columns)"
   ]
  },
  {
   "cell_type": "code",
   "execution_count": 8,
   "metadata": {},
   "outputs": [],
   "source": [
    "from sklearn.model_selection import train_test_split\n",
    "X_train, X_test, y_train, y_test = train_test_split(data, y, random_state=42)"
   ]
  },
  {
   "cell_type": "code",
   "execution_count": 9,
   "metadata": {},
   "outputs": [],
   "source": [
    "# Support vector machine linear classifier\n",
    "from sklearn.svm import SVC \n",
    "model = SVC(kernel='linear')"
   ]
  },
  {
   "cell_type": "code",
   "execution_count": 10,
   "metadata": {},
   "outputs": [],
   "source": [
    "# Create the GridSearch estimator along with a parameter object containing the values to adjust\n",
    "from sklearn.model_selection import GridSearchCV\n",
    "param_grid = {'C': [1, 5, 10],\n",
    "              'gamma': [0.0001, 0.001, 0.01]}\n",
    "grid = GridSearchCV(model, param_grid, verbose=3)"
   ]
  },
  {
   "cell_type": "code",
   "execution_count": null,
   "metadata": {},
   "outputs": [
    {
     "name": "stdout",
     "output_type": "stream",
     "text": [
      "Fitting 5 folds for each of 9 candidates, totalling 45 fits\n",
      "[CV] C=1, gamma=0.0001 ...............................................\n"
     ]
    },
    {
     "name": "stderr",
     "output_type": "stream",
     "text": [
      "[Parallel(n_jobs=1)]: Using backend SequentialBackend with 1 concurrent workers.\n"
     ]
    }
   ],
   "source": [
    "# Fit the model using the grid search estimator. \n",
    "# This will take the SVC model and try each combination of parameters\n",
    "grid.fit(X_train, y_train)"
   ]
  },
  {
   "cell_type": "code",
   "execution_count": null,
   "metadata": {},
   "outputs": [],
   "source": [
    "\n",
    "# List the best parameters for this dataset\n",
    "print(grid.best_params_)"
   ]
  },
  {
   "cell_type": "code",
   "execution_count": null,
   "metadata": {},
   "outputs": [],
   "source": [
    "# Make predictions with the hypertuned model\n",
    "predictions = grid.predict(X_test)"
   ]
  },
  {
   "cell_type": "code",
   "execution_count": null,
   "metadata": {},
   "outputs": [],
   "source": [
    "print('Test Acc: %.3f' % grid.score(X_test, y_test))"
   ]
  },
  {
   "cell_type": "code",
   "execution_count": null,
   "metadata": {},
   "outputs": [],
   "source": [
    "# Calculate classification report\n",
    "from sklearn.metrics import classification_report\n",
    "print(classification_report(y_test, predictions,\n",
    "                            target_names=[\"blue\", \"red\"]))"
   ]
  }
 ],
 "metadata": {
  "kernel_info": {
   "name": "dev"
  },
  "kernelspec": {
   "display_name": "Python 3",
   "language": "python",
   "name": "python3"
  },
  "language_info": {
   "codemirror_mode": {
    "name": "ipython",
    "version": 3
   },
   "file_extension": ".py",
   "mimetype": "text/x-python",
   "name": "python",
   "nbconvert_exporter": "python",
   "pygments_lexer": "ipython3",
   "version": "3.8.3"
  },
  "nteract": {
   "version": "0.12.3"
  }
 },
 "nbformat": 4,
 "nbformat_minor": 2
}
